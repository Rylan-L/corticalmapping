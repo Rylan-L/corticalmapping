{
 "cells": [
  {
   "cell_type": "markdown",
   "metadata": {
    "collapsed": true
   },
   "source": [
    "<div style=\"background:red;color:white;border:2px solid black;border-radius:5px;\">\n",
    "<br>\n",
    "<b><i><font size=3>&nbsp;Standard usage:</font></i></b>\n",
    "<ul>\n",
    "    <li>Requires Jupyter 3.0 and ipywidgets (type \"pip install ipywidgets\" in windows command line.)</li>\n",
    "    <li>Copy this notebook to your desired location.</li>\n",
    "    <li>Do not modify the first 4 cells in this notebook.</li>\n",
    "    <li>Run the raw code toggle cell (code cell #1)</li>\n",
    "    <li>Select a pkl with the \"Get File Path\" button. <b>It is recommended to have only one pkl file in a given folder!</b></li>\n",
    "    <li>Once the pkl file has been chosen, the notebook will run all the cells automatically.</li>\n",
    "    <li>Adjust the parameters with the sliding bar to get desired results. <b>Make sure to hit the \"submit changes and rerun below cells\" button after each change.</b></li>\n",
    "    <li>Make sure to hit \"save all\" button when you are done. Standardized the results will be saved into the same folder containing the pkl file.</li>\n",
    "</ul>\n",
    "<br>\n",
    "</div>"
   ]
  },
  {
   "cell_type": "markdown",
   "metadata": {},
   "source": [
    "<div style=\"background:#6699FF;color:#FFDDBB;border:1px solid #87868A;border-radius:5px;\">\n",
    "<br>\n",
    "<b><i><font size=3>&nbsp;Raw code toggle</font></i></b>\n",
    "<hr>\n",
    "<ul>\n",
    "    <li>If code is hidden and you don't see a button, click the hidden cell right below this cell and run it</li>\n",
    "    <ul>\n",
    "        <li>It's very thin and between this cell and the \"Get File Path\" cell, sorry for the inconvenience</li>\n",
    "    </ul>\n",
    "</ul>\n",
    "<br>\n",
    "</div>"
   ]
  },
  {
   "cell_type": "code",
   "execution_count": null,
   "metadata": {
    "collapsed": false
   },
   "outputs": [],
   "source": [
    "from IPython.display import Javascript,display\n",
    "from corticalmapping.ipython_lizard.html_widgets import raw_code_toggle\n",
    "raw_code_toggle()\n",
    "display(Javascript(\"\"\"var nb = IPython.notebook;\n",
    "                      //var is_code_cell = (nb.get_selected_cell().cell_type == 'code')\n",
    "                      //var curr_idx = (nb.get_selected_index() == 3);\n",
    "                      nb.select(3);\n",
    "                      nb.execute_cell();\n",
    "                      \"\"\"))"
   ]
  },
  {
   "cell_type": "code",
   "execution_count": null,
   "metadata": {
    "collapsed": false
   },
   "outputs": [],
   "source": [
    "from IPython.display import Javascript\n",
    "from corticalmapping.ipython_lizard.ipython_filedialog import IPythonTkinterFileDialog\n",
    "initial_dir = r\"C:\"\n",
    "\n",
    "tkinter_file_dialog = IPythonTkinterFileDialog(initial_dir)\n",
    "tkinter_file_dialog.execute_below = True\n",
    "tkinter_file_dialog.show()"
   ]
  },
  {
   "cell_type": "code",
   "execution_count": null,
   "metadata": {
    "collapsed": false,
    "scrolled": false
   },
   "outputs": [],
   "source": [
    "import os\n",
    "from PyQt4 import QtGui,QtCore\n",
    "import matplotlib.pyplot as plt\n",
    "import matplotlib as mpl\n",
    "from warnings import warn\n",
    "#mpl.rcParams['figure.figsize'] = 10, 10\n",
    "from corticalmapping import ipython_lizard\n",
    "from corticalmapping.ipython_lizard.wrapped_retinotopic_mapping import WrappedRetinotopicMapping\n",
    "from corticalmapping.ipython_lizard.patchplot_ipywidgets import PatchPlotWidgets\n",
    "from corticalmapping.ipython_lizard.html_widgets import getSignMapWidget,getRawPatchMapWidget,getRawPatchesWidget, \\\n",
    "                                                        splitPatchesWidget,mergePatchesWidget,getEccentricityMapWidget, \\\n",
    "                                                        saveFinalResultWidget,submitAndRunBelowButton\n",
    "\n",
    "%matplotlib inline\n",
    "#%load_ext autoreload\n",
    "#%autoreload 2"
   ]
  },
  {
   "cell_type": "code",
   "execution_count": null,
   "metadata": {
    "collapsed": false
   },
   "outputs": [],
   "source": [
    "pkl_path = tkinter_file_dialog.file_path\n",
    "\n",
    "TEST_PKL_IDX = 0\n",
    "TEST_PATH = ipython_lizard.TEST_PKLS[TEST_PKL_IDX] #there are like 6  different test pkls in this iterable\n",
    "current_dir = os.getcwd()\n",
    "adj_pkl_paths = [os.path.join(current_dir,f) for f in os.listdir(current_dir) if f.endswith(\"pkl\")]\n",
    "if adj_pkl_paths:\n",
    "    adj_pkl_path = adj_pkl_paths[0]\n",
    "else:\n",
    "    adj_pkl_path = None\n",
    "pkls = zip([\"MANUAL\",\"ADJACENT\",\"TEST\"],[pkl_path,adj_pkl_path,TEST_PATH])\n",
    "for p_type,pkl in pkls:\n",
    "    try:\n",
    "        trial = WrappedRetinotopicMapping.load_from_pkl(pkl)\n",
    "        print \"Successfully loaded from: {0}, {1}\".format(p_type,pkl)\n",
    "        __pkl_path = pkl\n",
    "        break\n",
    "    except Exception as e:\n",
    "        #warn(str(e))\n",
    "        warn(\"Failed to load from: {0}, {1}\".format(p_type,pkl))\n",
    "\n",
    "_TEST_PKL_USED = (p_type == \"TEST\")"
   ]
  },
  {
   "cell_type": "markdown",
   "metadata": {},
   "source": [
    "<div style=\"background:#6699FF;color:#FFDDBB;border:1px solid #87868A;border-radius:5px;\">\n",
    "<br>\n",
    "<b><i><font size=3>&nbsp;Calculate sign map</font></i></b>\n",
    "<hr>\n",
    "<b><i><font size=3>&nbsp;&nbsp;phaseMapFilterSigma:</font></i></b>\n",
    "<ul>\n",
    "    <li>The sigma value of Gaussian filter for altitude and azimuth maps</li>\n",
    "    <li>FLOAT, default = 1.0, recommended range: [0.0, 2.0]</li>\n",
    "    <li>Large \"phaseMapFilterSigma\" gives you more patches</li>\n",
    "    <li>Small \"phaseMapFilterSigma\" gives you less patches</li>\n",
    "</ul>\n",
    "<br>\n",
    "<b><i><font size=3>&nbsp;&nbsp;signMapFilterSigma:</font></i></b>\n",
    "<ul>\n",
    "    <li>The sigma value of Gaussian filter for visual sign maps</li>\n",
    "    <li>FLOAT, default = 9.0, recommended range: [0.6, 10.0]</li>\n",
    "    <li>Large \"signMapFilterSigma\" gives you less patches</li>\n",
    "    <li>Small \"signMapFilterSigma\" gives you more patches</li>\n",
    "</ul>\n",
    "<br>\n",
    "</div>"
   ]
  },
  {
   "cell_type": "code",
   "execution_count": null,
   "metadata": {
    "collapsed": false
   },
   "outputs": [],
   "source": [
    "phaseMapFilterSigma = 1.0\n",
    "signMapFilterSigma = 9.0\n",
    "\n",
    "getSignMapWidget(trial,\n",
    "                 phaseMapFilterSigmaDefault=phaseMapFilterSigma,\n",
    "                 signMapFilterSigmaDefault=signMapFilterSigma,\n",
    ")\n",
    "submitAndRunBelowButton()"
   ]
  },
  {
   "cell_type": "markdown",
   "metadata": {},
   "source": [
    "<div style=\"background:#6699FF;color:#FFDDBB;border:1px solid #87868A;border-radius:5px;\">\n",
    "<br>\n",
    "<b><i><font size=3>&nbsp;Get raw patch map</font></i></b>\n",
    "<hr>\n",
    "<b><i><font size=3>&nbsp;&nbsp;signMapThr:</font></i></b>\n",
    "<ul>\n",
    "    <li>Threshold to binarize visual signmap</li>\n",
    "    <li>FLOAT, default = 0.35, recommended range: [0.2, 0.5]</li>\n",
    "    <li>Large signMapThr gives you fewer patches</li>\n",
    "    <li>Smaller signMapThr gives you more patches</li>\n",
    "</ul>\n",
    "<br>\n",
    "<b><i><font size=3>&nbsp;&nbsp;closeIter:</font></i></b>\n",
    "<ul>\n",
    "    <li>Binary close iteration for each raw patches</li>\n",
    "    <li>INT, default = 3</li>\n",
    "    <li>You do not want to change this parameter very often</li>\n",
    "</ul>\n",
    "<br>\n",
    "<b><i><font size=3>&nbsp;&nbsp;openIter:</font></i></b>\n",
    "<ul>\n",
    "    <li>Binary open iteration for each raw patches</li>\n",
    "    <li>INT, default = 3</li>\n",
    "    <li>You do not want to change this parameter very often</li>\n",
    "</ul>\n",
    "<br>\n",
    "</div>"
   ]
  },
  {
   "cell_type": "code",
   "execution_count": null,
   "metadata": {
    "collapsed": false
   },
   "outputs": [],
   "source": [
    "signMapThr = 0.35\n",
    "openIter = 3\n",
    "closeIter = 3\n",
    "\n",
    "\n",
    "getRawPatchMapWidget(trial,\n",
    "                     signMapThrDefault=signMapThr,\n",
    "                     openIterDefault=openIter,\n",
    "                     closeIterDefault=closeIter,\n",
    ")\n",
    "submitAndRunBelowButton()"
   ]
  },
  {
   "cell_type": "markdown",
   "metadata": {},
   "source": [
    "<div style=\"background:#6699FF;color:#FFDDBB;border:1px solid #87868A;border-radius:5px;\">\n",
    "<br>\n",
    "<b><i><font size=3>&nbsp;Get dictionary for raw patches</font></i></b>\n",
    "<hr>\n",
    "<b><i><font size=3>&nbsp;&nbsp;dilationIter:</font></i></b>\n",
    "<ul>\n",
    "    <li>Binary dilation iteration for each raw patches</li>\n",
    "    <li>INT, default = 15</li>\n",
    "    <li>You do not want to change this parameter very often</li>\n",
    "</ul>\n",
    "<br>\n",
    "<b><i><font size=3>&nbsp;&nbsp;borderWidth:</font></i></b>\n",
    "<ul>\n",
    "    <li>Pixel number between adjcent patches</li> \n",
    "    <li>INT, default = 1</li>\n",
    "    <li>You do not want to change this parameter very often</li>\n",
    "</ul>\n",
    "<br>\n",
    "<b><i><font size=3>&nbsp;&nbsp;smallPatchThr:</font></i></b>\n",
    "<ul>\n",
    "    <li>The patches with pixel number below this number will be discarded</li> \n",
    "    <li>INT, default = 100</li>\n",
    "    <li>You do not want to change this parameter very often</li>\n",
    "</ul>\n",
    "<br>\n",
    "</div>"
   ]
  },
  {
   "cell_type": "code",
   "execution_count": null,
   "metadata": {
    "collapsed": false
   },
   "outputs": [],
   "source": [
    "dilationIter = 15\n",
    "borderWidth = 1\n",
    "smallPatchThr = 100\n",
    "\n",
    "getRawPatchesWidget(trial,\n",
    "                   dilationIterDefault=dilationIter,\n",
    "                   borderWidthDefault=borderWidth,\n",
    "                   smallPatchThrDefault=smallPatchThr,\n",
    ")\n",
    "submitAndRunBelowButton()"
   ]
  },
  {
   "cell_type": "markdown",
   "metadata": {},
   "source": [
    "<div style=\"background:#6699FF;color:#FFDDBB;border:1px solid #87868A;border-radius:5px;\">\n",
    "<br>\n",
    "<b><i><font size=3>&nbsp;Calculate determinant map</font></i></b>\n",
    "<hr>\n",
    "<br>\n",
    "</div>"
   ]
  },
  {
   "cell_type": "code",
   "execution_count": null,
   "metadata": {
    "collapsed": false,
    "scrolled": false
   },
   "outputs": [],
   "source": [
    "trial.getDeterminantMap()"
   ]
  },
  {
   "cell_type": "markdown",
   "metadata": {},
   "source": [
    "<div style=\"background:#6699FF;color:#FFDDBB;border:1px solid #87868A;border-radius:5px;\">\n",
    "<br>\n",
    "<b><i><font size=3>&nbsp;Calculate eccentricity map</font></i></b>  \n",
    "<hr>\n",
    "<b><i><font size=3>&nbsp;&nbsp;eccMapFilterSigma:</font></i></b>\n",
    "<ul>\n",
    "    <li>The sigma value of Gaussian filter for eccentricity maps</li> \n",
    "    <li>FLOAT, default = 10.0</li>\n",
    "    <li>You do not want to change this parameter very often, and it may take some time to run</li>\n",
    "</ul>\n",
    "<br>\n",
    "</div>"
   ]
  },
  {
   "cell_type": "code",
   "execution_count": null,
   "metadata": {
    "collapsed": false
   },
   "outputs": [],
   "source": [
    "eccMapFilterSigma = 10.0\n",
    "\n",
    "getEccentricityMapWidget(trial,eccMapFilterSigmaDefault=eccMapFilterSigma)\n",
    "submitAndRunBelowButton()"
   ]
  },
  {
   "cell_type": "markdown",
   "metadata": {},
   "source": [
    "<div style=\"background:#6699FF;color:#FFDDBB;border:1px solid #87868A;border-radius:5px;\">\n",
    "<br>\n",
    "<b><i><font size=3>&nbsp;Split overlapping patches</font></i></b>\n",
    "<hr>\n",
    "<b><i><font size=3>&nbsp;&nbsp;visualSpacePixelSize:</font></i></b>\n",
    "<ul>\n",
    "    <li>The pixel size for patch to visual space mapping</li>\n",
    "    <li>FLOAT, default = 0.5</li>\n",
    "    <li>You do not want to change this parameter very often</li>\n",
    "</ul>\n",
    "<br>\n",
    "<b><i><font size=3>&nbsp;&nbsp;visualSpaceCloseIter:</font></i></b>\n",
    "<ul>\n",
    "    <li>The binary iteration for visual space coverage for each patch</li> \n",
    "    <li>INT, default = 15</li>\n",
    "    <li>You do not want to change this parameter very often</li> \n",
    "</ul>\n",
    "<br>\n",
    "<b><i><font size=3>&nbsp;&nbsp;splitLocalMinCutStep:</font></i></b> \n",
    "<ul>\n",
    "    <li>The step width for detecting number of local minimums during spliting</li>\n",
    "    <li>FLOAT, default = 5.0, recommend range: [0.5, 15.0]</li>\n",
    "    <li>Small \"splitLocalMinCutStep\" will make it more likely to split but into less sub patches</li>\n",
    "    <li>Large \"splitLocalMinCutStep\" will make it less likely to split but into more sub patches</li>\n",
    "</ul>\n",
    "<br>\n",
    "<b><i><font size=3>&nbsp;&nbsp;splitOverlapThr:</font></i></b>  \n",
    "<ul>\n",
    "    <li>Patches with overlap ration larger than this value will go through the split procedure</li>\n",
    "    <li>FLOAT, default = 1.1, recommend range: [1.0, 1.2], should be larger than 1.0</li>\n",
    "    <li>Small \"splitOverlapThr\" will split more patches</li>\n",
    "    <li>Large \"splitOverlapThr\" will split less patches</li>\n",
    "</ul>\n",
    "<br>\n",
    "</div>"
   ]
  },
  {
   "cell_type": "code",
   "execution_count": null,
   "metadata": {
    "collapsed": false
   },
   "outputs": [],
   "source": [
    "visualSpacePixelSize = 0.5\n",
    "visualSpaceCloseIter = 15\n",
    "splitLocalMinCutStep = 5.0\n",
    "splitOverlapThr = 1.2\n",
    "\n",
    "splitPatchesWidget(trial,\n",
    "                   visualSpacePixelSizeDefault=visualSpacePixelSize,\n",
    "                   visualSpaceCloseIterDefault=visualSpaceCloseIter,\n",
    "                   splitLocalMinCutStepDefault=splitLocalMinCutStep,\n",
    "                   splitOverlapThrDefault=splitOverlapThr\n",
    ")\n",
    "submitAndRunBelowButton()"
   ]
  },
  {
   "cell_type": "markdown",
   "metadata": {},
   "source": [
    "<div style=\"background:#6699FF;color:#FFDDBB;border:1px solid #87868A;border-radius:5px;\">\n",
    "<br>\n",
    "<b><i><font size=3>&nbsp;Merge non-overlapping patches</font></i></b>\n",
    "<hr>\n",
    "<b><i><font size=3>&nbsp;&nbsp;mergeOverlapThr:</font></i></b>\n",
    "<ul>\n",
    "    <li>Considering a patch pair (A and B) with same sign, A has visual coverage a deg<sup>2</sup> and B has visual coverage b deg<sup>2</sup></li>\n",
    "    <li>The overlaping visual coverage between this pair is c deg<sup>2</sup></li> \n",
    "    <li>Then if (c/a < \"mergeOverlapThr\") and (c/b < \"mergeOverlapThr\"), these two patches will be merged</li> \n",
    "    <li>FLOAT, default = 0.1, recommend range: [0.0, 0.2], should be smaller than 1.0</li> \n",
    "    <li>Small \"mergeOverlapThr\" will merge less patches</li>\n",
    "    <li>Large \"mergeOverlapThr\" will merge more patches</li>\n",
    "</ul>\n",
    "<br>\n",
    "</div>"
   ]
  },
  {
   "cell_type": "code",
   "execution_count": null,
   "metadata": {
    "collapsed": false,
    "scrolled": true
   },
   "outputs": [],
   "source": [
    "mergeOverlapThr = 0.1\n",
    "\n",
    "mergePatchesWidget(trial,mergeOverlapThrDefault=mergeOverlapThr)\n",
    "submitAndRunBelowButton()"
   ]
  },
  {
   "cell_type": "markdown",
   "metadata": {},
   "source": [
    "<div style=\"background:#6699FF;color:#FFDDBB;border:1px solid #87868A;border-radius:5px;\">\n",
    "<br>\n",
    "<b><i><font size=3>&nbsp;Rename patches</font></i></b>\n",
    "<hr>\n",
    "<ul>\n",
    "    <li>Click the patches and type their desired names according to the reference map below</li>\n",
    "    <li>Established visual area names:</li>\n",
    "    <ul>\n",
    "        <li>A, AL, AM, LI, LLA, LM, M, MMA, MMP, P, PM, POR, RL, RLL, RS, S1, V1</li>\n",
    "    </ul>\n",
    "    <li>The name you typed within this list will show in green, others will show in orange</li>\n",
    "</ul>\n",
    "<br>\n",
    "</div>"
   ]
  },
  {
   "cell_type": "code",
   "execution_count": null,
   "metadata": {
    "collapsed": false,
    "scrolled": true
   },
   "outputs": [],
   "source": [
    "patchplot_widgets = PatchPlotWidgets(trial,{},[],figsize=(5,5))\n",
    "patchplot_widgets.plot_reference_img()"
   ]
  },
  {
   "cell_type": "code",
   "execution_count": null,
   "metadata": {
    "collapsed": false,
    "scrolled": true
   },
   "outputs": [],
   "source": [
    "rename_patches_dict = dict(trial.finalPatches)\n",
    "\n",
    "DESIRED_PATCH_NAMES = ['A','AL','AM','LI','LLA','LM','M','MMA','MMP','P','PM','POR','RL','RLL','RS','S1','V1']\n",
    "\n",
    "for patch in rename_patches_dict.keys(): #replace 'patch01' with 01, etc\n",
    "    rename_patches_dict[patch.replace(\"patch\",\"\")] = rename_patches_dict.pop(patch)\n",
    "patchplot_widgets = PatchPlotWidgets(trial,rename_patches_dict,DESIRED_PATCH_NAMES,figsize=(12,6))\n",
    "\n",
    "patchplot_widgets.show()\n",
    "submitAndRunBelowButton()"
   ]
  },
  {
   "cell_type": "markdown",
   "metadata": {
    "collapsed": true
   },
   "source": [
    "<div style=\"background:#6699FF;color:#FFDDBB;border:1px solid #87868A;border-radius:5px;\">\n",
    "<br>\n",
    "<b><i><font size=3>&nbsp;Plot final borders</font></i></b>\n",
    "<hr>\n",
    "<br>\n",
    "</div>"
   ]
  },
  {
   "cell_type": "code",
   "execution_count": null,
   "metadata": {
    "collapsed": false,
    "scrolled": false
   },
   "outputs": [],
   "source": [
    "rename_patches_dict = patchplot_widgets.patches_dict\n",
    "finalPatchBorder_figure = trial.plotFinalPatchBorders(rename_patches_dict,borderWidth=4)\n",
    "#trial.params[\"finalPatchesMarked\"] = rename_patches_dict\n",
    "#trial.finalPatchesMarked = rename_patches_dict"
   ]
  },
  {
   "cell_type": "markdown",
   "metadata": {},
   "source": [
    "<div style=\"background:#6699FF;color:#FFDDBB;border:1px solid #87868A;border-radius:5px;\">\n",
    "<br>\n",
    "<b><i><font size=3>&nbsp;Save</font></i></b>\n",
    "<hr>\n",
    "<ul>\n",
    "    <li>Saves the following to the directory containing the original pkl file:</li>\n",
    "    <ul>\n",
    "        <li>final borders plot (.png & .pdf)</li>\n",
    "        <li>updated pkl file</li>\n",
    "        <li>the current notebook (.ipynb & .html)</li>\n",
    "    </ul>\n",
    "</ul>\n",
    "<br>\n",
    "</div>"
   ]
  },
  {
   "cell_type": "code",
   "execution_count": null,
   "metadata": {
    "collapsed": false
   },
   "outputs": [],
   "source": [
    "pkl_save_path = None\n",
    "#saveTrialDictPkl(trial,pkl_save_path)\n",
    "saveFinalResultWidget(trial,finalPatchBorder_figure,__pkl_path,pkl_save_path,avoid_overwrite=(not _TEST_PKL_USED)) "
   ]
  }
 ],
 "metadata": {
  "kernelspec": {
   "display_name": "Python 2",
   "language": "python",
   "name": "python2"
  },
  "language_info": {
   "codemirror_mode": {
    "name": "ipython",
    "version": 2
   },
   "file_extension": ".py",
   "mimetype": "text/x-python",
   "name": "python",
   "nbconvert_exporter": "python",
   "pygments_lexer": "ipython2",
   "version": "2.7.10"
  }
 },
 "nbformat": 4,
 "nbformat_minor": 0
}
